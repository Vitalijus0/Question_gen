{
 "cells": [
  {
   "cell_type": "code",
   "execution_count": 1,
   "id": "8a00f1ff",
   "metadata": {},
   "outputs": [
    {
     "name": "stdout",
     "output_type": "stream",
     "text": [
      "device  cuda\n"
     ]
    },
    {
     "name": "stderr",
     "output_type": "stream",
     "text": [
      "/home/oki/anaconda3/lib/python3.8/site-packages/transformers/models/t5/tokenization_t5.py:190: UserWarning: This sequence already has </s>. In future versions this behavior may lead to duplicated eos tokens being added.\n",
      "  warnings.warn(\n",
      "/home/oki/anaconda3/lib/python3.8/site-packages/transformers/generation_utils.py:1839: UserWarning: __floordiv__ is deprecated, and its behavior will change in a future version of pytorch. It currently rounds toward 0 (like the 'trunc' function NOT 'floor'). This results in incorrect rounding for negative values. To keep the current behavior, use torch.div(a, b, rounding_mode='trunc'), or for actual floor division, use torch.div(a, b, rounding_mode='floor').\n",
      "  next_indices = next_tokens // vocab_size\n"
     ]
    },
    {
     "name": "stdout",
     "output_type": "stream",
     "text": [
      "dict_keys(['input_ids', 'attention_mask'])\n",
      "question: Kuris miestas yra didžiausias šalies miestas?\n",
      "question: Kuriame mieste yra didžiausias šalies miestas?\n",
      "question: Koks yra didžiausias šalies miestas?\n",
      "question: Koks yra didžiausias miestas šalies miestas?\n",
      "question: Kokia yra didžiausia šalies miestas?\n"
     ]
    }
   ],
   "source": [
    "import torch\n",
    "from transformers import T5ForConditionalGeneration,T5Tokenizer\n",
    "\n",
    "trained_model_path = 'model/'\n",
    "trained_tokenizer = 'tokenizer/'\n",
    "\n",
    "model = T5ForConditionalGeneration.from_pretrained(trained_model_path)\n",
    "tokenizer = T5Tokenizer.from_pretrained(trained_tokenizer)\n",
    "\n",
    "device = torch.device(\"cuda\" if torch.cuda.is_available() else \"cpu\")\n",
    "print (\"device \",device)\n",
    "model = model.to(device)\n",
    "\n",
    "context =\"Vilnius – Lietuvos sostinė ir didžiausias šalies miestas, Vilniaus apskrities, rajono ir miesto savivaldybės centras.\"\n",
    "answer = \"Vilnius\"\n",
    "text = \"context: \"+context + \" \" + \"answer: \" + answer + \" </s>\"\n",
    "\n",
    "\n",
    "encoding = tokenizer.encode_plus(text,max_length =512, padding=True, return_tensors=\"pt\")\n",
    "print (encoding.keys())\n",
    "input_ids,attention_mask  = encoding[\"input_ids\"].to(device), encoding[\"attention_mask\"].to(device)\n",
    "\n",
    "model.eval()\n",
    "beam_outputs = model.generate(\n",
    "    input_ids=input_ids,attention_mask=attention_mask,\n",
    "    max_length=72,\n",
    "    early_stopping=True,\n",
    "    num_beams=10,\n",
    "    num_return_sequences=5\n",
    "\n",
    ")\n",
    "\n",
    "for beam_output in beam_outputs:\n",
    "    sent = tokenizer.decode(beam_output, skip_special_tokens=True,clean_up_tokenization_spaces=True)\n",
    "    print (sent)\n",
    "\n"
   ]
  },
  {
   "cell_type": "code",
   "execution_count": 2,
   "id": "80c16ef5",
   "metadata": {},
   "outputs": [],
   "source": [
    "import gradio as gr"
   ]
  },
  {
   "cell_type": "code",
   "execution_count": null,
   "id": "5177ce6d",
   "metadata": {},
   "outputs": [],
   "source": []
  }
 ],
 "metadata": {
  "kernelspec": {
   "display_name": "question_gen",
   "language": "python",
   "name": "question_gen"
  },
  "language_info": {
   "codemirror_mode": {
    "name": "ipython",
    "version": 3
   },
   "file_extension": ".py",
   "mimetype": "text/x-python",
   "name": "python",
   "nbconvert_exporter": "python",
   "pygments_lexer": "ipython3",
   "version": "3.8.8"
  }
 },
 "nbformat": 4,
 "nbformat_minor": 5
}
